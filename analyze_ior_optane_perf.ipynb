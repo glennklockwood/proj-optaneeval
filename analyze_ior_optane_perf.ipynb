{
 "cells": [
  {
   "cell_type": "code",
   "execution_count": null,
   "metadata": {},
   "outputs": [],
   "source": [
    "%matplotlib inline"
   ]
  },
  {
   "cell_type": "code",
   "execution_count": null,
   "metadata": {},
   "outputs": [],
   "source": [
    "import matplotlib\n",
    "import pandas\n",
    "matplotlib.rcParams['font.size'] = 16"
   ]
  },
  {
   "cell_type": "markdown",
   "metadata": {},
   "source": [
    "The `perf.csv` file was obtained by doing\n",
    "\n",
    "    grep -h ^Operation ior_*.log | head -n1 | sed -e 's/  */,/g' > perf.txt\n",
    "    grep -h  ^write.*POSIX ior_*.log | sed -e 's/  */,/g' >> perf.txt\n",
    "    echo \"Used(GiB)\" > fs_full.txt\n",
    "    awk '/^FS/ { print $3 * $7 / 100.0 }' ior_*.log | head -n -1 >> fs_full.txt\n",
    "    paste -d, perf.txt fs_full.txt > perf.csv"
   ]
  },
  {
   "cell_type": "code",
   "execution_count": null,
   "metadata": {},
   "outputs": [],
   "source": [
    "df = pandas.read_csv('perf.csv')"
   ]
  },
  {
   "cell_type": "code",
   "execution_count": null,
   "metadata": {},
   "outputs": [],
   "source": [
    "x = df['Used(GiB)']\n",
    "y = df['Max(OPs)']"
   ]
  },
  {
   "cell_type": "code",
   "execution_count": null,
   "metadata": {},
   "outputs": [],
   "source": [
    "fig, ax = matplotlib.pyplot.subplots(figsize=(8, 6))\n",
    "ax.plot(x, y, '.')\n",
    "\n",
    "ax.set_xlabel(\"FS Fullness (GiB)\")\n",
    "ax.set_ylabel(\"IOPS\")"
   ]
  },
  {
   "cell_type": "markdown",
   "metadata": {},
   "source": [
    "What is the cause of the time-dependent behavior?\n",
    "\n",
    "- thread scheduling - is this the effect of binding the processes to a different socket than the NVMe device?\n",
    "- actual device filling performance?  unlikely"
   ]
  },
  {
   "cell_type": "code",
   "execution_count": null,
   "metadata": {},
   "outputs": [],
   "source": []
  }
 ],
 "metadata": {
  "kernelspec": {
   "display_name": "Python 3",
   "language": "python",
   "name": "python3"
  },
  "language_info": {
   "codemirror_mode": {
    "name": "ipython",
    "version": 3
   },
   "file_extension": ".py",
   "mimetype": "text/x-python",
   "name": "python",
   "nbconvert_exporter": "python",
   "pygments_lexer": "ipython3",
   "version": "3.6.7"
  }
 },
 "nbformat": 4,
 "nbformat_minor": 2
}
